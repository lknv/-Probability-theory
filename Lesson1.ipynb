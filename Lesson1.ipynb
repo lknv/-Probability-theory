{
 "cells": [
  {
   "cell_type": "markdown",
   "id": "142d5212",
   "metadata": {},
   "source": [
    "### Задача 1\n",
    "\n",
    "Имеется колода в 52 карты. Найти число возможностей вытянуть из неё 4 карты так, чтобы среди них был хотя бы один туз."
   ]
  },
  {
   "cell_type": "markdown",
   "id": "e4ab1306",
   "metadata": {},
   "source": [
    "Число возможностей равно числу сочетаний. \n",
    "\n",
    "В свою очередь число сочетаний из n по k равно n!/(k!(n-k)!)"
   ]
  },
  {
   "cell_type": "code",
   "execution_count": 1,
   "id": "dcc76724",
   "metadata": {},
   "outputs": [],
   "source": [
    "import numpy as np"
   ]
  },
  {
   "cell_type": "code",
   "execution_count": 2,
   "id": "e8e4ee95",
   "metadata": {},
   "outputs": [],
   "source": [
    "def num_C (k, n):\n",
    "    return np.math.factorial(n) // (np.math.factorial(k) * np.math.factorial(n - k))\n",
    "    \n",
    "#где n - общее число карт, k - число карт, которое нужно достать"
   ]
  },
  {
   "cell_type": "code",
   "execution_count": 3,
   "id": "2b9bac5c",
   "metadata": {},
   "outputs": [
    {
     "data": {
      "text/plain": [
       "76145"
      ]
     },
     "execution_count": 3,
     "metadata": {},
     "output_type": "execute_result"
    }
   ],
   "source": [
    "num_C(1, 4) * num_C(3, 48) + num_C(2, 4) * num_C(2, 48) + num_C(3,4) * num_C(1,48) + num_C(4, 4)"
   ]
  },
  {
   "cell_type": "markdown",
   "id": "7bbbd6ee",
   "metadata": {},
   "source": [
    "### Задачи 2 и 3\n",
    "\n",
    "Из 60 вопросов, входящих в экзаменационные билеты, студент знает 50. Случайным образом студент вытягивает 3 вопроса. Какова вероятность, что все выбранные вопросы знакомы студенту? Какова вероятность что два из трёх вопросов знакомы студенту?"
   ]
  },
  {
   "cell_type": "markdown",
   "id": "3d72fd56",
   "metadata": {},
   "source": [
    "Вероятность вытянуть 3 знакомых вопроса равна количеству благоприятных исходов (сочетаний) деленное на все возмжные исходы (сочетания)"
   ]
  },
  {
   "cell_type": "code",
   "execution_count": 4,
   "id": "19047eab",
   "metadata": {},
   "outputs": [],
   "source": [
    "def num_C2 (k, n):\n",
    "    return np.math.factorial(n) // (np.math.factorial(k) * np.math.factorial(n - k))\n",
    "    "
   ]
  },
  {
   "cell_type": "code",
   "execution_count": 7,
   "id": "2c3414d5",
   "metadata": {},
   "outputs": [
    {
     "data": {
      "text/plain": [
       "0.5727644652250146"
      ]
     },
     "execution_count": 7,
     "metadata": {},
     "output_type": "execute_result"
    }
   ],
   "source": [
    "A = num_C2(3, 50) / num_C2 (3, 60)\n",
    "A"
   ]
  },
  {
   "cell_type": "code",
   "execution_count": 9,
   "id": "84801bdd",
   "metadata": {},
   "outputs": [
    {
     "data": {
      "text/plain": [
       "0.35797779076563413"
      ]
     },
     "execution_count": 9,
     "metadata": {},
     "output_type": "execute_result"
    }
   ],
   "source": [
    "A2 = num_C2(2,50)*num_C2(1, 10) / num_C2(3, 60)\n",
    "A2"
   ]
  },
  {
   "cell_type": "markdown",
   "id": "cc34b1bf",
   "metadata": {},
   "source": [
    "### Задача 4\n",
    "\n",
    "Допустим, имеется некоторая очень редкая болезнь (поражает 0.1% населения). Вы приходите к врачу, вам делают тест на эту болезнь, и тест оказывается положительным. Врач говорит вам, что этот тест верно выявляет 99% больных этой болезнью и всего лишь в 1% случаев даёт ложный положительный ответ.\n",
    "\n",
    "Вопрос: какова вероятность, что вы действительно больны ей?\n",
    "\n",
    "Подсказка: используйте формулу Байеса с раскрытием знаменателя с помощью формулы полной вероятности"
   ]
  },
  {
   "cell_type": "markdown",
   "id": "07e6febc",
   "metadata": {},
   "source": [
    "* Пусть событие А - болезнь\n",
    "* Событие В - положительный тест\n",
    "\n",
    "P(A|B) =  P(B|A) * P(A) / P(B), \n",
    "\n",
    "где Р(B|A) = 0.99, P(A) = 0.001, а Р(B) будет раскрыто по формуле полной вероятности"
   ]
  },
  {
   "cell_type": "code",
   "execution_count": 11,
   "id": "86b41c32",
   "metadata": {},
   "outputs": [
    {
     "data": {
      "text/plain": [
       "0.09016393442622951"
      ]
     },
     "execution_count": 11,
     "metadata": {},
     "output_type": "execute_result"
    }
   ],
   "source": [
    "P = 0.99 * 0.001 / (0.99 * 0.001 + 0.01 * 0.999)\n",
    "P"
   ]
  },
  {
   "cell_type": "code",
   "execution_count": null,
   "id": "316e4252",
   "metadata": {},
   "outputs": [],
   "source": []
  }
 ],
 "metadata": {
  "kernelspec": {
   "display_name": "Python 3",
   "language": "python",
   "name": "python3"
  },
  "language_info": {
   "codemirror_mode": {
    "name": "ipython",
    "version": 3
   },
   "file_extension": ".py",
   "mimetype": "text/x-python",
   "name": "python",
   "nbconvert_exporter": "python",
   "pygments_lexer": "ipython3",
   "version": "3.8.8"
  }
 },
 "nbformat": 4,
 "nbformat_minor": 5
}
