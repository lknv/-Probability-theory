{
 "cells": [
  {
   "cell_type": "markdown",
   "id": "1561092e",
   "metadata": {},
   "source": [
    "### Задачи 1 и 2\n",
    "\n",
    "Контрольная работа состоит из пяти вопросов. На каждый вопрос приведено четыре варианта ответа, один из которых правильный. Случайная величина X задаёт число правильных ответов при простом угадывании. Найдите математическое ожидание данной случайной величины. Найдите дисперсию случайной величины X.\n",
    "\n",
    "Подсказка: постройте закон распределения случайной величины X."
   ]
  },
  {
   "cell_type": "markdown",
   "id": "fc80e17a",
   "metadata": {},
   "source": [
    "**Решение:**\n",
    "* X_1 = 0 правильных ответов угаданно\n",
    "* X_2 = 1 правильный ответ угадан\n",
    "* X_3 = 2 правильных ответов угаданно\n",
    "* X_4 = 3 правильных ответов угаданно\n",
    "* X_5 = 4 правильных ответов угаданно\n",
    "* X_6 = 5 правильных ответов угаданно"
   ]
  },
  {
   "cell_type": "code",
   "execution_count": 2,
   "id": "a29b6850",
   "metadata": {},
   "outputs": [],
   "source": [
    "import numpy as np\n",
    "from matplotlib import pyplot as plt"
   ]
  },
  {
   "cell_type": "code",
   "execution_count": 54,
   "id": "ae629ed8",
   "metadata": {},
   "outputs": [],
   "source": [
    "def combi (k, n):\n",
    "    return np.math.factorial(n) / (np.math.factorial(k) * np.math.factorial(n - k))    "
   ]
  },
  {
   "cell_type": "code",
   "execution_count": 55,
   "id": "5c63f05a",
   "metadata": {},
   "outputs": [
    {
     "data": {
      "text/plain": [
       "15504.0"
      ]
     },
     "execution_count": 55,
     "metadata": {},
     "output_type": "execute_result"
    }
   ],
   "source": [
    "C_all = combi(5, 20)  #общее число возможностей\n",
    "C"
   ]
  },
  {
   "cell_type": "code",
   "execution_count": 57,
   "id": "8aef5037",
   "metadata": {},
   "outputs": [
    {
     "data": {
      "text/plain": [
       "(0.19369195046439627,\n",
       " 0.44020897832817335,\n",
       " 0.29347265221878227,\n",
       " 0.06772445820433437,\n",
       " 0.004837461300309598,\n",
       " 6.449948400412796e-05)"
      ]
     },
     "execution_count": 57,
     "metadata": {},
     "output_type": "execute_result"
    }
   ],
   "source": [
    "X_1 = combi(0,5)*combi(5, 15) / C\n",
    "X_2 = combi(1,5)*combi(4, 15) / C\n",
    "X_3 = combi(2,5)*combi(3, 15) / C\n",
    "X_4 = combi(3,5)*combi(2, 15) / C\n",
    "X_5= combi(4,5)*combi(1, 15) / C\n",
    "X_6 = combi(5, 5) *combi(0, 15) / C \n",
    "\n",
    "X_1, X_2, X_3, X_4, X_5, X_6"
   ]
  },
  {
   "cell_type": "code",
   "execution_count": 60,
   "id": "15001341",
   "metadata": {},
   "outputs": [
    {
     "data": {
      "text/plain": [
       "1.25"
      ]
     },
     "execution_count": 60,
     "metadata": {},
     "output_type": "execute_result"
    }
   ],
   "source": [
    "# мат ожидание\n",
    "M_X = 5*(1/4)\n",
    "M_X"
   ]
  },
  {
   "cell_type": "code",
   "execution_count": 62,
   "id": "d3c2a137",
   "metadata": {},
   "outputs": [
    {
     "data": {
      "text/plain": [
       "0.9375"
      ]
     },
     "execution_count": 62,
     "metadata": {},
     "output_type": "execute_result"
    }
   ],
   "source": [
    "# дисперсия\n",
    "D_X = 5*(1/4)*(1-(1/4))\n",
    "D_X"
   ]
  },
  {
   "cell_type": "markdown",
   "id": "4f979b32",
   "metadata": {},
   "source": [
    "### Задача 3\n",
    "Пользователь получает в среднем 10 писем со спамом на свой почтовый ящик за сутки. Найти число N, такое, что с вероятностью 0.95 пользователь получит не более N писем со спамом за текущий день."
   ]
  },
  {
   "cell_type": "code",
   "execution_count": 69,
   "id": "7ce84371",
   "metadata": {},
   "outputs": [],
   "source": [
    "def poisson_proba(k: int, lambda_: float) -> float:\n",
    "    \"\"\"Формула Пуассона.\n",
    "    \"\"\"\n",
    "    \n",
    "    return (lambda_ ** k) * (np.exp(-lambda_)) / np.math.factorial(k)"
   ]
  },
  {
   "cell_type": "code",
   "execution_count": 85,
   "id": "0b5075ec",
   "metadata": {},
   "outputs": [],
   "source": [
    "lambda_ = 10"
   ]
  },
  {
   "cell_type": "code",
   "execution_count": 100,
   "id": "ec2009da",
   "metadata": {},
   "outputs": [
    {
     "data": {
      "text/plain": [
       "0.9512595966960214"
      ]
     },
     "execution_count": 100,
     "metadata": {},
     "output_type": "execute_result"
    }
   ],
   "source": [
    "sum(poisson_proba(k=i, lambda_=lambda_) for i in range(16))\n"
   ]
  }
 ],
 "metadata": {
  "kernelspec": {
   "display_name": "Python 3",
   "language": "python",
   "name": "python3"
  },
  "language_info": {
   "codemirror_mode": {
    "name": "ipython",
    "version": 3
   },
   "file_extension": ".py",
   "mimetype": "text/x-python",
   "name": "python",
   "nbconvert_exporter": "python",
   "pygments_lexer": "ipython3",
   "version": "3.8.8"
  }
 },
 "nbformat": 4,
 "nbformat_minor": 5
}
