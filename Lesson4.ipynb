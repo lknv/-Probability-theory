{
 "cells": [
  {
   "cell_type": "markdown",
   "id": "c4403390",
   "metadata": {},
   "source": [
    "### 1. \n",
    "Случайная непрерывная величина A имеет равномерное распределение на промежутке (200, 800].\n",
    "Найдите ее среднее значение и дисперсию."
   ]
  },
  {
   "cell_type": "code",
   "execution_count": 1,
   "id": "21e45abd",
   "metadata": {},
   "outputs": [
    {
     "data": {
      "text/plain": [
       "(500.0, 30000.0)"
      ]
     },
     "execution_count": 1,
     "metadata": {},
     "output_type": "execute_result"
    }
   ],
   "source": [
    "a= 200\n",
    "b=800\n",
    "M = (a+b)/2\n",
    "D = ((b-a)**2)/12\n",
    "M, D"
   ]
  },
  {
   "cell_type": "code",
   "execution_count": 2,
   "id": "d79906fb",
   "metadata": {},
   "outputs": [],
   "source": [
    "from scipy import stats"
   ]
  },
  {
   "cell_type": "code",
   "execution_count": 3,
   "id": "694d51ce",
   "metadata": {},
   "outputs": [
    {
     "data": {
      "text/plain": [
       "500.0"
      ]
     },
     "execution_count": 3,
     "metadata": {},
     "output_type": "execute_result"
    }
   ],
   "source": [
    "stats.uniform.mean(a, 600)"
   ]
  },
  {
   "cell_type": "code",
   "execution_count": 4,
   "id": "932d8e1c",
   "metadata": {},
   "outputs": [
    {
     "data": {
      "text/plain": [
       "30000.0"
      ]
     },
     "execution_count": 4,
     "metadata": {},
     "output_type": "execute_result"
    }
   ],
   "source": [
    "stats.uniform.var(a, 600) "
   ]
  },
  {
   "cell_type": "markdown",
   "id": "31f94d00",
   "metadata": {},
   "source": [
    "### 2. \n",
    "О случайной непрерывной равномерно распределенной величине B известно, что ее дисперсия равна 0.2.\n",
    "Можно ли найти правую границу величины B и ее среднее значение зная, что левая граница равна 0.5?\n",
    "Если да, найдите ее.\n"
   ]
  },
  {
   "cell_type": "markdown",
   "id": "beadbdb3",
   "metadata": {},
   "source": [
    "Да\n",
    "* 0.2 = ((b-0.5)** 2)/12\n",
    "* 2.4 = (b-0.5)** 2\n",
    "* 1.5491 = b-0.5\n",
    "* b=2,049"
   ]
  },
  {
   "cell_type": "code",
   "execution_count": 5,
   "id": "b295b554",
   "metadata": {},
   "outputs": [
    {
     "data": {
      "text/plain": [
       "0.1999759008333333"
      ]
     },
     "execution_count": 5,
     "metadata": {},
     "output_type": "execute_result"
    }
   ],
   "source": [
    "stats.uniform.var(0.5, 1.5491) "
   ]
  },
  {
   "cell_type": "markdown",
   "id": "42933682",
   "metadata": {},
   "source": [
    "### 3. \n",
    "Непрерывная случайная величина X распределена нормально и задана плотностью распределения\n",
    "f(x) = (1 / (4 * sqrt(2*pi))) * (exp(-(x+2)**2) / 32).\n",
    "Найдите:\n",
    "а). M(X)\n",
    "б). D(X)\n",
    "в). std(X) (среднее квадратичное отклонение)\n"
   ]
  },
  {
   "cell_type": "markdown",
   "id": "81c34b95",
   "metadata": {},
   "source": [
    "а). M(X) = -2\n",
    "\n",
    "б). D(X) = 16\n",
    "\n",
    "в). std(X) (среднее квадратичное отклонение) = 4 \n"
   ]
  },
  {
   "cell_type": "markdown",
   "id": "55effd89",
   "metadata": {},
   "source": [
    "### 4. \n",
    "Рост взрослого населения города X имеет нормальное распределение.\n",
    "Причем, средний рост равен 174 см, а среднее квадратичное отклонение равно 8 см.\n",
    "Какова вероятность того, что случайным образом выбранный взрослый человек имеет рост:\n",
    "а). больше 182 см\n",
    "б). больше 190 см\n",
    "в). от 166 см до 190 см\n",
    "г). от 166 см до 182 см\n",
    "д). от 158 см до 190 см\n",
    "е). не выше 150 см или не ниже 190 см\n",
    "ё). не выше 150 см или не ниже 198 см\n",
    "ж). ниже 166 см.\n"
   ]
  },
  {
   "cell_type": "code",
   "execution_count": 6,
   "id": "b083505c",
   "metadata": {},
   "outputs": [
    {
     "data": {
      "text/html": [
       "<img src=\"https://www.center-pss.ru/img/normraspr.jpg\"/>"
      ],
      "text/plain": [
       "<IPython.core.display.Image object>"
      ]
     },
     "execution_count": 6,
     "metadata": {},
     "output_type": "execute_result"
    }
   ],
   "source": [
    "from IPython.display import Image\n",
    "from IPython.core.display import HTML \n",
    "Image(url= 'https://www.center-pss.ru/img/normraspr.jpg')"
   ]
  },
  {
   "cell_type": "code",
   "execution_count": 7,
   "id": "888696b6",
   "metadata": {},
   "outputs": [
    {
     "data": {
      "text/plain": [
       "1.0"
      ]
     },
     "execution_count": 7,
     "metadata": {},
     "output_type": "execute_result"
    }
   ],
   "source": [
    "#больше 182 см\n",
    "\n",
    "Z = (182 - 174)/8\n",
    "Z"
   ]
  },
  {
   "cell_type": "code",
   "execution_count": 8,
   "id": "3c20260d",
   "metadata": {},
   "outputs": [
    {
     "data": {
      "text/plain": [
       "0.15869999999999995"
      ]
     },
     "execution_count": 8,
     "metadata": {},
     "output_type": "execute_result"
    }
   ],
   "source": [
    "1 - 0.8413\n",
    "\n",
    "# Перепроерка:  промежутке от -1 сигму до +1 сигмы лежит 68% наблюдений\n",
    "# 182 - расстояние одной сигмы. Т.е (100 - 68) / 2, тк графики семитричны. Отет 16"
   ]
  },
  {
   "cell_type": "markdown",
   "id": "23b7d39a",
   "metadata": {},
   "source": [
    "б). больше 190 см = (190 - 174) / 8 = 2; 1 - 0.9772 = **0.0228** Тоже что (100 - 95.4) / 2 = 2.3% \n",
    "\n",
    "в). от 166 см до 190 см = (166 - 174) / 8 = -1; 1 - 0.8413 = 0.1586; 0.9772 - 0.1586 = **0.8186**\n",
    "\n",
    "г). от 166 см до 182 см = 0.8413 - 0.1587 = **0.6825**\n",
    "\n",
    "д). от 158 см до 190 см  = (158 - 174) / 8 = -2; (190 - 174) / 8 = 2; 0.9772 - 0.0228 = *0.9492**\n",
    "\n",
    "е). не выше 150 см или не ниже 190 см = (150 - 174) / 8 = -3; 0.0014 + 0.0228 = **0.0242**\n",
    "\n",
    "ё). не выше 150 см или не ниже 198 см =0.0014 * 2 = **0.0028**\n",
    "\n",
    "ж). ниже 166 см. = **0.1587**"
   ]
  },
  {
   "cell_type": "markdown",
   "id": "505bbe26",
   "metadata": {},
   "source": [
    "### 5. \n",
    "На сколько сигм (средних квадратичных отклонений) отклоняется рост человека, равный 190 см, от\n",
    "математического ожидания роста в популяции, в которой M(X) = 178 см и D(X) = 25 кв.см?\n"
   ]
  },
  {
   "cell_type": "code",
   "execution_count": 9,
   "id": "3897146c",
   "metadata": {},
   "outputs": [
    {
     "data": {
      "text/plain": [
       "2.4"
      ]
     },
     "execution_count": 9,
     "metadata": {},
     "output_type": "execute_result"
    }
   ],
   "source": [
    "(190-178)/5"
   ]
  }
 ],
 "metadata": {
  "kernelspec": {
   "display_name": "Python 3",
   "language": "python",
   "name": "python3"
  },
  "language_info": {
   "codemirror_mode": {
    "name": "ipython",
    "version": 3
   },
   "file_extension": ".py",
   "mimetype": "text/x-python",
   "name": "python",
   "nbconvert_exporter": "python",
   "pygments_lexer": "ipython3",
   "version": "3.8.8"
  }
 },
 "nbformat": 4,
 "nbformat_minor": 5
}
